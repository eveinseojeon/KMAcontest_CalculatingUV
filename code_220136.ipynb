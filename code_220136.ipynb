{
 "cells": [
  {
   "cell_type": "code",
   "execution_count": null,
   "metadata": {
    "colab": {
     "base_uri": "https://localhost:8080/"
    },
    "executionInfo": {
     "elapsed": 20920,
     "status": "ok",
     "timestamp": 1659450554339,
     "user": {
      "displayName": "형한결",
      "userId": "07128191621110839920"
     },
     "user_tz": -540
    },
    "id": "VYbkyUwb2P-5",
    "outputId": "f86b89be-7f7f-4bfb-f31a-b69b7cf3f537"
   },
   "outputs": [],
   "source": [
    "from google.colab import drive\n",
    "drive.mount('/content/drive')"
   ]
  },
  {
   "cell_type": "code",
   "execution_count": null,
   "metadata": {
    "id": "vz6z02UV2Iz8"
   },
   "outputs": [],
   "source": [
    "import pandas as pd\n",
    "import numpy as np\n",
    "import pickle\n",
    "import os\n",
    "import random as python_random\n",
    "from tqdm import tqdm\n",
    "\n",
    "from sklearn.experimental import enable_iterative_imputer\n",
    "from sklearn.impute import KNNImputer\n",
    "\n",
    "from sklearn.preprocessing import MinMaxScaler\n",
    "from sklearn.model_selection import train_test_split\n",
    "import matplotlib.pyplot as plt\n",
    "import seaborn as sns\n",
    "from sklearn.model_selection import KFold\n",
    "\n",
    "from sklearn.metrics import mean_squared_error\n",
    "\n",
    "import tensorflow as tf\n",
    "from tensorflow import keras\n",
    "from tensorflow.keras import layers\n",
    "from tensorflow.keras.models import Sequential\n",
    "from tensorflow.keras.layers import Dense, Input, Activation, LSTM, GRU, SimpleRNN\n",
    "from keras import backend as K\n",
    "from tensorflow.keras.callbacks import ModelCheckpoint, TensorBoard, ReduceLROnPlateau"
   ]
  },
  {
   "cell_type": "code",
   "execution_count": null,
   "metadata": {
    "id": "__owgVFaAf2C"
   },
   "outputs": [],
   "source": [
    "SEED = 42\n",
    "\n",
    "os.environ['PYTHONHASHSEED'] = str(SEED)\n",
    "os.environ['TF_DETERMINISTIC_OPS'] = '1'\n",
    "\n",
    "tf.random.set_seed(SEED)\n",
    "np.random.seed(SEED)\n",
    "python_random.seed(123)"
   ]
  },
  {
   "cell_type": "code",
   "execution_count": null,
   "metadata": {},
   "outputs": [],
   "source": [
    "Current_directory = './'\n",
    "Model_directory = './model'\n",
    "Tensorboard_directory = './tensorboard'"
   ]
  },
  {
   "cell_type": "markdown",
   "metadata": {
    "id": "Ps7SSNvqp1yy"
   },
   "source": [
    "# 2. 데이터 전처리"
   ]
  },
  {
   "cell_type": "markdown",
   "metadata": {
    "id": "9Wkp5NNpp8d3"
   },
   "source": [
    "## 2.1. 데이터 병합"
   ]
  },
  {
   "cell_type": "code",
   "execution_count": null,
   "metadata": {
    "colab": {
     "base_uri": "https://localhost:8080/",
     "height": 137
    },
    "executionInfo": {
     "elapsed": 389,
     "status": "error",
     "timestamp": 1659452321255,
     "user": {
      "displayName": "형한결",
      "userId": "07128191621110839920"
     },
     "user_tz": -540
    },
    "id": "CAahPXFKp06W",
    "outputId": "bca42c56-a8b6-4e40-e1be-bdf67c026dac"
   },
   "outputs": [],
   "source": [
    "os.chdir(Current_directory)\n",
    "\n",
    "# months\n",
    "months = []\n",
    "for i in range(1,25):\n",
    "  if i <= 12: \n",
    "    months.append(str(2000+ i))\n",
    "  else: \n",
    "    months.append(str(2100 + (i+1)%13))\n",
    "months.append('2206')\n",
    "print(months)\n",
    "\n",
    "df_all = []\n",
    "\n",
    "for i in months:\n",
    "  df_curr = pd.read_csv(Current_directory + 'uv_' + str(i) + '.csv', encoding='euc-kr')\n",
    "  df_curr.drop(columns=['Unnamed: 0'], inplace=True) \n",
    "  df_curr['date'] = pd.to_datetime(df_curr[f'20{i}_uv.yyyymmdd'], format = '%Y%m%d')\n",
    "  df_curr['time'] = df_curr[f'20{i}_uv.hhnn'].astype(str)\n",
    "  for i in range(len(df_curr)):\n",
    "    df_curr['time'][i] = '-'+'0'*(4-len(str(df_curr['time'][i]))) + str(df_curr['time'][i])\n",
    "\n",
    "  df_curr['date_time'] = pd.to_datetime(df_curr['date'].astype(str) + df_curr['time'].astype(str) ,format = '%Y-%m-%d-%H%M')\n",
    "  df_curr.drop(['date', 'time'], axis = 1, inplace = True)\n",
    "  df_curr.set_axis([i.rsplit('.')[-1] for i in df_curr.columns], axis=1, inplace=True)\n",
    "  df_curr.drop(['yyyymmdd', 'hhnn'], axis = 1, inplace = True)\n",
    "  df_curr.set_index(['stn', 'date_time'], inplace = True)\n",
    "  df_curr.sort_index()\n",
    "  df_all.append(df_curr)\n",
    "\n",
    "df_tot = df_all[0]\n",
    "\n",
    "for i in range(1,25):\n",
    "  df_tot = df_tot.append(df_all[i])"
   ]
  },
  {
   "cell_type": "markdown",
   "metadata": {
    "id": "Rob5Sm4UsoCJ"
   },
   "source": [
    "## 2.2. 이상치 처리(KNN Imputer)"
   ]
  },
  {
   "cell_type": "code",
   "execution_count": null,
   "metadata": {
    "id": "GiWJKikqsqD3"
   },
   "outputs": [],
   "source": [
    "df = df_tot\n",
    "df.replace(-999.0, np.nan, inplace=True)\n",
    "df.reset_index(inplace=True)\n",
    "\n",
    "df_train = df.loc[(df[\"date_time\"] >= '2020-01-01') & (df[\"date_time\"] < '2022-01-01')]\n",
    "df_test = df.loc[(df[\"date_time\"] >= '2022-06-01') & (df[\"date_time\"] < '2022-07-01')]\n",
    "df_test = df_test.drop(columns=['uv'])\n",
    "\n",
    "# Train data 지점별 knn\n",
    "df_imputed = pd.DataFrame(columns=df_train.columns)\n",
    "stn_list = list(df_train[\"stn\"].unique())\n",
    "\n",
    "for stn in tqdm(stn_list):\n",
    "    df_train_1 = df_train.loc[df_train[\"stn\"] == stn]\n",
    "    df_train_1.set_index(\"date_time\", inplace=True)\n",
    "    imputer = KNNImputer(n_neighbors=4)\n",
    "    np_imputed = imputer.fit_transform(df_train_1)\n",
    "    df_train_2 = pd.DataFrame(np_imputed, columns=df_train_1.columns)\n",
    "    df_train_1.reset_index(inplace=True)\n",
    "    df_train_2[\"date_time\"] = df_train_1[\"date_time\"]\n",
    "    df_imputed = pd.concat([df_imputed, df_train_2], axis=0)\n",
    "\n",
    "# Test data 지점별 knn\n",
    "df_test_imputed = pd.DataFrame(columns=df_test.columns)\n",
    "stn_list = list(df_test[\"stn\"].unique())\n",
    "\n",
    "for stn in tqdm(stn_list):\n",
    "    df_test_1 = df_test.loc[df_test[\"stn\"] == stn]\n",
    "    df_test_1.set_index(\"date_time\", inplace=True)\n",
    "    imputer = KNNImputer(n_neighbors=4)\n",
    "    np_imputed = imputer.fit_transform(df_test_1)\n",
    "    df_test_2 = pd.DataFrame(np_imputed, columns=df_test_1.columns)\n",
    "    df_test_1.reset_index(inplace=True)\n",
    "    df_test_2[\"date_time\"] = df_test_1[\"date_time\"]\n",
    "    df_test_imputed = pd.concat([df_test_imputed, df_test_2], axis=0)\n",
    "\n",
    "# Train, Test 결측치 채운 data 합치기\n",
    "all_impute = pd.concat([df_imputed, df_test_imputed], axis=0)\n",
    "all_impute = all_impute.astype({'stn':'int64', 'date_time':'datetime64[ns]', 'lon':'float64', 'lat':'float64',\n",
    "                                'uv':'float64', 'band1':'float64', 'band2':'float64', 'band3':'float64', \n",
    "                                'band4':'float64', 'band5':'float64', 'band6':'float64', 'band7':'float64',\n",
    "                                'band8':'float64', 'band9':'float64', 'band10':'float64', 'band11':'float64',\n",
    "                                'band12':'float64', 'band13':'float64', 'band14':'float64', 'band15':'float64',\n",
    "                                'band16':'float64', 'solarza':'float64', 'sateza':'float64', 'esr':'float64',\n",
    "                                'height':'float64', 'landtype':'int64'})"
   ]
  },
  {
   "cell_type": "markdown",
   "metadata": {
    "id": "Un2XusJmvpel"
   },
   "source": [
    "## 2.3. 변수 변환"
   ]
  },
  {
   "cell_type": "code",
   "execution_count": null,
   "metadata": {},
   "outputs": [],
   "source": [
    "df = all_impute\n",
    "def encode(data, col, max_val):\n",
    "    data[col + '_sin'] = np.sin(2 * np.pi * data[col]/max_val)\n",
    "    data[col + '_cos'] = np.cos(2 * np.pi * data[col]/max_val)\n",
    "    return data\n",
    "\n",
    "df['month'] = df[\"date_time\"].dt.month\n",
    "df = encode(df, 'month', 12)\n",
    "df['hour'] = df[\"date_time\"].dt.hour\n",
    "df = encode(df, 'hour', 23)"
   ]
  },
  {
   "cell_type": "markdown",
   "metadata": {},
   "source": [
    "## 2.4. 파생변수 생성\n",
    "## 2.7. 데이터 선택 및 추출"
   ]
  },
  {
   "cell_type": "code",
   "execution_count": null,
   "metadata": {
    "id": "o6g7VDF14vdb"
   },
   "outputs": [],
   "source": [
    "# solarza를 활용한 cos 공식으로 UV 계산 컬럼 추가\n",
    "delta = -0.01\n",
    "solar = df['solarza']\n",
    "x = np.cos(solar*(2*np.pi/360)) + delta\n",
    "df['uv_calculated'] = 11 * (((abs(x)+x)/2)**2)\n",
    "\n",
    "df.drop(columns=[\"sateza\", \"height\", \"landtype\", \"month\", \"hour\"], inplace=True)\n",
    "\n",
    "df = df[['date_time','stn', 'uv', 'month_sin', 'month_cos', 'hour_sin', 'hour_cos', 'lon', 'lat', \n",
    "        'band1', 'band2', 'band3', 'band4', 'band5',\n",
    "       'band6', 'band7', 'band8', 'band9', 'band10', 'band11', 'band12',\n",
    "       'band13', 'band14', 'band15', 'band16', 'solarza', 'esr', 'uv_calculated']]\n",
    "\n",
    "df_train_1 = df.loc[(df[\"date_time\"] >= \"2020-05-01\") & (df[\"date_time\"] < \"2020-08-01\")]\n",
    "df_train_2 = df.loc[(df[\"date_time\"] >= \"2021-05-01\") & (df[\"date_time\"] < \"2021-08-01\")]\n",
    "\n",
    "df_train = pd.concat([df_train_1, df_train_2], axis=0)\n",
    "\n",
    "df_test = df.loc[(df[\"date_time\"] >= \"2022-06-01\") & (df[\"date_time\"] < \"2202-07-01\")]\n",
    "\n",
    "df_train.reset_index(drop=True, inplace=True)\n",
    "df_test.reset_index(drop=True, inplace=True)\n",
    "\n",
    "df_train.head()"
   ]
  },
  {
   "cell_type": "markdown",
   "metadata": {},
   "source": [
    "## 2.5. 정규화"
   ]
  },
  {
   "cell_type": "code",
   "execution_count": null,
   "metadata": {
    "id": "XEKAHCH8fDaW"
   },
   "outputs": [],
   "source": [
    "# df_train\n",
    "df_train_1= df_train.iloc[:, :7]\n",
    "\n",
    "scaler = MinMaxScaler()\n",
    "df_train_std = df_train.iloc[:, 7:]\n",
    "df_train_std = scaler.fit_transform(df_train_std)\n",
    "df_train_std = pd.DataFrame(df_train_std, columns=df_train.columns[7:])\n",
    "\n",
    "df_train = pd.concat([df_train_1, df_train_std], axis=1)\n",
    "\n",
    "# df_test\n",
    "df_test_1 = df_test.iloc[:, :7]\n",
    "\n",
    "df_test_std = df_test.iloc[:, 7:]\n",
    "df_test_std = scaler.transform(df_test_std)\n",
    "df_test_std = pd.DataFrame(df_test_std, columns=df_test.columns[7:])\n",
    "\n",
    "df_test = pd.concat([df_test_1, df_test_std], axis=1)"
   ]
  },
  {
   "cell_type": "markdown",
   "metadata": {
    "id": "VBTgQM0yvuND"
   },
   "source": [
    "# 3. 분석기법\n",
    "## 3.2. 데이터셋 구성"
   ]
  },
  {
   "cell_type": "code",
   "execution_count": null,
   "metadata": {
    "id": "LC8VUhNhBBVU"
   },
   "outputs": [],
   "source": [
    "def build_dataset(time_series, seq_length):\n",
    "  dataX = []\n",
    "  dataY = []\n",
    "  \n",
    "  for i in tqdm(range(len(time_series) - seq_length)):\n",
    "    x = time_series.iloc[i:i+seq_length, :-1]\n",
    "    y = time_series.iloc[i+seq_length - 1, -1]\n",
    "\n",
    "    dataX.append(x)\n",
    "    dataY.append(y)\n",
    "\n",
    "  return np.array(dataX), np.array(dataY)"
   ]
  },
  {
   "cell_type": "code",
   "execution_count": null,
   "metadata": {
    "id": "hcDxnsuP3Z3k"
   },
   "outputs": [],
   "source": [
    "df_train = df_train[['date_time','stn', 'month_sin', 'month_cos', 'hour_sin', 'hour_cos', \n",
    "        'band1', 'band2', 'band3', 'band4', 'band5',\n",
    "       'band6', 'band7', 'band8', 'band9', 'band10', 'band11', 'band12',\n",
    "       'band13', 'band14', 'band15', 'band16','solarza', 'esr', 'uv_calculated', 'uv']]\n",
    "  \n",
    "df_test = df_test[['date_time','stn', 'month_sin', 'month_cos', 'hour_sin', 'hour_cos', \n",
    "        'band1', 'band2', 'band3', 'band4', 'band5', \n",
    "       'band6', 'band7', 'band8', 'band9', 'band10', 'band11', 'band12',\n",
    "       'band13', 'band14', 'band15', 'band16','solarza', 'esr', 'uv_calculated', 'uv']]\n",
    "\n",
    "df_train_timeseries = df_train.iloc[:, 2:]\n",
    "df_test_timeseries = df_test.iloc[:, 2:]"
   ]
  },
  {
   "cell_type": "code",
   "execution_count": null,
   "metadata": {
    "id": "hpZaVvMGQEcw"
   },
   "outputs": [],
   "source": [
    "train_x, train_y = build_dataset(df_train_timeseries, 6)\n",
    "test_x, test_y = build_dataset(df_test_timeseries, 6)"
   ]
  },
  {
   "cell_type": "markdown",
   "metadata": {
    "id": "WICcyyqRv0Rb"
   },
   "source": [
    "## 3.3. LSTM 모델 구축"
   ]
  },
  {
   "cell_type": "code",
   "execution_count": null,
   "metadata": {
    "id": "7dGA9N1ivyod"
   },
   "outputs": [],
   "source": [
    "def rmse(y_true, y_pred):\n",
    "        return K.sqrt(K.mean(K.square(y_pred - y_true))) "
   ]
  },
  {
   "cell_type": "markdown",
   "metadata": {
    "id": "P-5Gt-JaebdE"
   },
   "source": [
    "- 학습데이터 5 KFold 5세트로 나눠서 각각 학습\n",
    "- 학습 후 val-loss 기준 상위 3개 모델의 결과값만 합침"
   ]
  },
  {
   "cell_type": "code",
   "execution_count": null,
   "metadata": {
    "id": "08lqDfZEed_s"
   },
   "outputs": [],
   "source": [
    "kf = KFold(n_splits=5, shuffle=True, random_state=SEED)\n",
    "X_train = []\n",
    "X_valid = []\n",
    "y_train = []\n",
    "y_valid = []\n",
    "\n",
    "for train_index, valid_index in kf.split(train_x):\n",
    "    X_tr, X_va = train_x[train_index], train_x[valid_index]\n",
    "    y_tr, y_va = train_y[train_index], train_y[valid_index]\n",
    "    X_train.append(X_tr)\n",
    "    X_valid.append(X_va)\n",
    "    y_train.append(y_tr)\n",
    "    y_valid.append(y_va)"
   ]
  },
  {
   "cell_type": "code",
   "execution_count": null,
   "metadata": {
    "id": "Rixvn_abegzs"
   },
   "outputs": [],
   "source": [
    "def set_lstm():\n",
    "\n",
    "  model = Sequential()\n",
    "\n",
    "  model.add(LSTM(16, input_shape=(6, 23)))\n",
    "  model.add(Dense(1, activation='relu'))\n",
    "\n",
    "  optimizer = keras.optimizers.Adam(learning_rate=0.001)\n",
    "\n",
    "  model.compile(loss = rmse, optimizer = optimizer, metrics=['mae', 'mse'])\n",
    "\n",
    "  return model"
   ]
  },
  {
   "cell_type": "markdown",
   "metadata": {
    "id": "0ez-7ADLUad7"
   },
   "source": [
    "## 3.4. 모델 학습"
   ]
  },
  {
   "cell_type": "code",
   "execution_count": null,
   "metadata": {
    "id": "ftykkrfQes4G"
   },
   "outputs": [],
   "source": [
    "for i in range(5):\n",
    "  model_directory = Model_directory + '/lstm(kf)_' + str(i) + '/'\n",
    "  tensorboard_directory = Tensorboard_directory + '/lstm(kf)_' + str(i) + '/'\n",
    "\n",
    "  CP = ModelCheckpoint(filepath=model_directory+'lstm(16)_batch64_epochs200-{epoch:03d}-{val_loss:.4f}.hdf5',\n",
    "               monitor='val_loss', save_weights_only=True, verbose=1, save_best_only=True, mode='min')\n",
    "  TB = TensorBoard(log_dir=tensorboard_directory, write_graph=True, write_images=True)\n",
    "  LR = ReduceLROnPlateau(monitor='val_loss',factor=0.8,patience=3, verbose=1, min_lr=1e-7)\n",
    "  CALLBACK = [CP, TB, LR]\n",
    "\n",
    "  train_x = X_train[i]\n",
    "  train_y = y_train[i]\n",
    "  valid_x = X_valid[i]\n",
    "  valid_y = y_valid[i]\n",
    "  model = set_lstm()\n",
    "  model.fit(train_x, train_y, batch_size=64, callbacks=CALLBACK, shuffle=True, validation_data=(valid_x, valid_y), epochs=200)"
   ]
  },
  {
   "cell_type": "markdown",
   "metadata": {
    "id": "zdNwt82MTayr"
   },
   "source": [
    "### Predict"
   ]
  },
  {
   "cell_type": "markdown",
   "metadata": {
    "id": "5VX0sgmTADWV"
   },
   "source": [
    "- 모델들의 가중치 파일은 아래 링크에서 받을 수 있습니다.\n",
    "- https://github.com/PHJoon/Weather-Bigdata-Contest/tree/master/model\n"
   ]
  },
  {
   "cell_type": "code",
   "execution_count": null,
   "metadata": {
    "id": "_ZEfvNGqnSNi"
   },
   "outputs": [],
   "source": [
    "pretrained_model = set_lstm()\n",
    "pretrained_model.load_weights('lstm(16)_batch64_epochs200-156-0.5067.hdf5')\n",
    "extracted_layers = pretrained_model.layers[:]\n",
    "lstm1 = keras.Sequential(extracted_layers)\n",
    "\n",
    "pretrained_model = set_lstm()\n",
    "pretrained_model.load_weights('lstm(16)_batch64_epochs200-135-0.5095.hdf5')\n",
    "extracted_layers = pretrained_model.layers[:]\n",
    "lstm2 = keras.Sequential(extracted_layers)\n",
    "\n",
    "pretrained_model = set_lstm()\n",
    "pretrained_model.load_weights('lstm(16)_batch64_epochs200-133-0.5091.hdf5')\n",
    "extracted_layers = pretrained_model.layers[:]\n",
    "lstm3 = keras.Sequential(extracted_layers)\n",
    "\n",
    "pred1 = lstm1.predict(test_x)\n",
    "pred2 = lstm2.predict(test_x)\n",
    "pred3 = lstm3.predict(test_x)\n",
    "\n",
    "pred = pred1 * 0.4  + pred2 * 0.3 + pred3 * 0.3"
   ]
  },
  {
   "cell_type": "markdown",
   "metadata": {
    "id": "Sysb6oDLTJWy"
   },
   "source": [
    "## Submission"
   ]
  },
  {
   "cell_type": "code",
   "execution_count": null,
   "metadata": {
    "id": "n8CcgKcLfDt7"
   },
   "outputs": [],
   "source": [
    "df_sub = pd.read_csv(\"1-1_검증데이터셋.csv\")\n",
    "df_sub.set_index(['YearMonthDayHourMinute', 'STN'], inplace=True)\n",
    "df_sub.sort_index(level='STN', inplace=True)\n",
    "\n",
    "df_pred = pd.DataFrame(pred)\n",
    "# 데이터 처음 6개는 비어있으므로 0으로 채워줌\n",
    "df_sub[\"UV\"][6:] = df_pred[0]\n",
    "df_sub[\"UV\"][:6] = 0\n",
    "df_sub.reset_index(inplace=True)\n",
    "df_sub.sort_values(by=['YearMonthDayHourMinute', 'STN'], inplace=True)\n",
    "df_sub.reset_index(drop=True, inplace=True)\n",
    "\n",
    "df_sub.to_csv(\"220136.csv\", index=False, encoding='utf-8')"
   ]
  }
 ],
 "metadata": {
  "accelerator": "GPU",
  "colab": {
   "collapsed_sections": [],
   "machine_shape": "hm",
   "name": "Deeplearning(567)final.ipynb",
   "provenance": []
  },
  "gpuClass": "standard",
  "kernelspec": {
   "display_name": "Python 3 (ipykernel)",
   "language": "python",
   "name": "python3"
  },
  "language_info": {
   "codemirror_mode": {
    "name": "ipython",
    "version": 3
   },
   "file_extension": ".py",
   "mimetype": "text/x-python",
   "name": "python",
   "nbconvert_exporter": "python",
   "pygments_lexer": "ipython3",
   "version": "3.9.12"
  }
 },
 "nbformat": 4,
 "nbformat_minor": 1
}
